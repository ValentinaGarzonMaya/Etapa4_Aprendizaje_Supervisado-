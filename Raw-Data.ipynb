{
 "cells": [
  {
   "cell_type": "code",
   "execution_count": 22,
   "id": "75417d42-a9ee-4a88-be2f-bc339c8f9841",
   "metadata": {},
   "outputs": [],
   "source": [
    "import pandas as pd\n",
    "from sklearn.model_selection import train_test_split\n",
    "from sklearn.naive_bayes import GaussianNB"
   ]
  },
  {
   "cell_type": "code",
   "execution_count": 23,
   "id": "143a3937-3a54-48d4-bfcd-c4632436148c",
   "metadata": {},
   "outputs": [],
   "source": [
    "# Cargar el conjunto de datos\n",
    "data = pd.read_csv('Raw-Data.csv')"
   ]
  },
  {
   "cell_type": "code",
   "execution_count": 26,
   "id": "c91836a1-7170-42ef-bece-f5b51249f012",
   "metadata": {},
   "outputs": [],
   "source": [
    "# Dividir los datos en características (X) y variable objetivo (y)\n",
    "X = data_encoded.drop('Severity', axis=1)  # Características\n",
    "y = data_encoded['Severity']  # Variable objetivo"
   ]
  },
  {
   "cell_type": "code",
   "execution_count": 27,
   "id": "3c1561e0-ed29-4524-ad41-58450bdb69bc",
   "metadata": {},
   "outputs": [],
   "source": [
    "# Dividir los datos en conjuntos de entrenamiento y prueba\n",
    "X_train, X_test, y_train, y_test = train_test_split(X, y, test_size=0.2, random_state=42)"
   ]
  },
  {
   "cell_type": "code",
   "execution_count": 28,
   "id": "05126a3b-be40-400a-b87e-4d67a8e3fff3",
   "metadata": {},
   "outputs": [],
   "source": [
    "# Crear el clasificador Naive Bayes\n",
    "clf = GaussianNB()"
   ]
  },
  {
   "cell_type": "code",
   "execution_count": 29,
   "id": "ea7de7de-239d-4520-9070-705e39cf362e",
   "metadata": {},
   "outputs": [
    {
     "data": {
      "text/plain": [
       "GaussianNB()"
      ]
     },
     "execution_count": 29,
     "metadata": {},
     "output_type": "execute_result"
    }
   ],
   "source": [
    "# Entrenar el clasificador\n",
    "clf.fit(X_train, y_train)"
   ]
  },
  {
   "cell_type": "code",
   "execution_count": 31,
   "id": "04091669-231b-4fab-80eb-bde8b9fe1bfb",
   "metadata": {},
   "outputs": [],
   "source": [
    "# Calcular las probabilidades a priori\n",
    "p_infectado = (y_train == 'Yes').mean()  # P(infectado)\n",
    "p_no_infectado = (y_train == 'No').mean()  # P(no infectado)"
   ]
  },
  {
   "cell_type": "code",
   "execution_count": 32,
   "id": "4b0a6230-f60f-4f9b-94c3-0558d34213e1",
   "metadata": {},
   "outputs": [],
   "source": [
    "# Calcular las probabilidades condicionales\n",
    "p_sintomas_infectado = X_train[y_train == 'Yes'].mean()  # P(síntomas | infectado)\n",
    "p_sintomas_no_infectado = X_train[y_train == 'No'].mean()  # P(síntomas | no infectado)"
   ]
  },
  {
   "cell_type": "code",
   "execution_count": 33,
   "id": "ae5e7abd-16ea-4c8a-9dae-1ef5d87b2c23",
   "metadata": {},
   "outputs": [],
   "source": [
    "# Ejemplo de nuevos síntomas para clasificar\n",
    "#sintomas = ['Fever', 'Tiredness', 'Dry-Cough', 'Difficulty-in-Breathing', 'Sore-Throat']\n"
   ]
  },
  {
   "cell_type": "code",
   "execution_count": 37,
   "id": "b2b70eb9-4e76-4397-86aa-ce38e39075b5",
   "metadata": {},
   "outputs": [],
   "source": [
    "# Supongamos que tienes un nuevo paciente con síntomas observados\n",
    "nuevo_paciente = [1, 0, 1, 1, 0]  # Ejemplo de síntomas observados"
   ]
  },
  {
   "cell_type": "code",
   "execution_count": 38,
   "id": "75de90e4-60d0-424d-833e-d452fbc25b52",
   "metadata": {},
   "outputs": [],
   "source": [
    "# Calcular la probabilidad posterior para estar infectado o no infectado\n",
    "p_infectado_sintomas = p_sintomas_infectado.prod() * p_infectado  # P(infectado | síntomas)\n",
    "p_no_infectado_sintomas = p_sintomas_no_infectado.prod() * p_no_infectado  # P(no infectado | síntomas)"
   ]
  },
  {
   "cell_type": "code",
   "execution_count": 39,
   "id": "0a727950-794d-4425-b815-6367f913ac3b",
   "metadata": {},
   "outputs": [
    {
     "name": "stdout",
     "output_type": "stream",
     "text": [
      "El nuevo paciente está clasificado como no infectado.\n"
     ]
    }
   ],
   "source": [
    "# Tomar la decisión\n",
    "if p_infectado_sintomas > p_no_infectado_sintomas:\n",
    "    print(\"El nuevo paciente está clasificado como infectado.\")\n",
    "else:\n",
    "    print(\"El nuevo paciente está clasificado como no infectado.\")"
   ]
  },
  {
   "cell_type": "code",
   "execution_count": 44,
   "id": "0508f034-9a06-4199-90f5-b9960b03b9ce",
   "metadata": {},
   "outputs": [],
   "source": [
    "# Calcular las probabilidades a priori\n",
    "p_infectado = (y_train == 1).mean()  # P(infectado)\n",
    "p_no_infectado = (y_train == 0).mean()  # P(no infectado)"
   ]
  },
  {
   "cell_type": "code",
   "execution_count": 45,
   "id": "c633bfe5-d3e0-4618-8d36-b16da8a87cba",
   "metadata": {},
   "outputs": [],
   "source": [
    "# Calcular las probabilidades condicionales\n",
    "p_sintomas_infectado = X_train[y_train == 1].mean()  # P(síntomas | infectado)\n",
    "p_sintomas_no_infectado = X_train[y_train == 0].mean()  # P(síntomas | no infectado)"
   ]
  },
  {
   "cell_type": "code",
   "execution_count": 46,
   "id": "25e24709-c4ae-40a8-a34c-f16f5dd930a5",
   "metadata": {},
   "outputs": [],
   "source": [
    "# Supongamos que tienes un nuevo paciente con síntomas observados\n",
    "nuevo_paciente = [1, 0, 1, 1, 0]  # Ejemplo de síntomas observados"
   ]
  },
  {
   "cell_type": "code",
   "execution_count": 47,
   "id": "1c5ea0b7-8564-433b-b711-651a85fb0153",
   "metadata": {},
   "outputs": [],
   "source": [
    "# Calcular la probabilidad posterior para estar infectado o no infectado\n",
    "p_infectado_sintomas = p_sintomas_infectado.prod() * p_infectado  # P(infectado | síntomas)\n",
    "p_no_infectado_sintomas = p_sintomas_no_infectado.prod() * p_no_infectado  # P(no infectado | síntomas)"
   ]
  },
  {
   "cell_type": "code",
   "execution_count": 48,
   "id": "88766a65-c701-405e-82c9-37cc771dd465",
   "metadata": {},
   "outputs": [
    {
     "name": "stdout",
     "output_type": "stream",
     "text": [
      "Probabilidad de estar infectado: 0.0\n",
      "Probabilidad de no estar infectado: 0.0\n"
     ]
    }
   ],
   "source": [
    "# Imprimir las probabilidades\n",
    "print(\"Probabilidad de estar infectado:\", p_infectado_sintomas)\n",
    "print(\"Probabilidad de no estar infectado:\", p_no_infectado_sintomas)"
   ]
  },
  {
   "cell_type": "code",
   "execution_count": null,
   "id": "defb6bc3-0181-4a89-b92d-6bbc922c0bf1",
   "metadata": {},
   "outputs": [],
   "source": []
  }
 ],
 "metadata": {
  "kernelspec": {
   "display_name": "Python 3 (ipykernel)",
   "language": "python",
   "name": "python3"
  },
  "language_info": {
   "codemirror_mode": {
    "name": "ipython",
    "version": 3
   },
   "file_extension": ".py",
   "mimetype": "text/x-python",
   "name": "python",
   "nbconvert_exporter": "python",
   "pygments_lexer": "ipython3",
   "version": "3.9.13"
  }
 },
 "nbformat": 4,
 "nbformat_minor": 5
}
